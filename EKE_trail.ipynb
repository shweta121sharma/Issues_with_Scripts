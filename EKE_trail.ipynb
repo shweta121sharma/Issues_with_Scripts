{
 "cells": [
  {
   "cell_type": "code",
   "execution_count": 2,
   "metadata": {},
   "outputs": [
    {
     "name": "stdout",
     "output_type": "stream",
     "text": [
      "Populating the interactive namespace from numpy and matplotlib\n"
     ]
    }
   ],
   "source": [
    "%pylab inline\n",
    "import cosima_cookbook as cc\n",
    "import numpy as np\n",
    "import matplotlib.pyplot as plt # to generate plots\n",
    "import xarray as xr\n",
    "import scipy as sp\n",
    "import pandas as pd\n",
    "import IPython.display\n",
    "import cmocean as cm\n",
    "import cartopy.crs as ccrs\n",
    "import cartopy.feature as cft\n",
    "import matplotlib.gridspec as gridspec\n",
    "from netCDF4 import Dataset\n",
    "from mpl_toolkits.basemap import Basemap # plot on map projections\n",
    "from glob import glob\n",
    "import scipy.interpolate\n",
    "import scipy.ndimage\n",
    "from tqdm import tqdm_notebook\n",
    "import pylab\n",
    "from matplotlib import ticker, cm\n",
    "# for georefferenced data\n",
    "import matplotlib.pyplot as plt\n",
    "from mpl_toolkits.basemap import Basemap\n",
    "import matplotlib.cm as cm # for colormap\n",
    "from sklearn import preprocessing\n",
    "import netCDF4 as nc\n",
    "import dask.array as da\n",
    "import dataset"
   ]
  },
  {
   "cell_type": "code",
   "execution_count": 3,
   "metadata": {},
   "outputs": [],
   "source": [
    "import dask\n",
    "from dask.distributed import Client, progress\n",
    "from dask_jobqueue import PBSCluster"
   ]
  },
  {
   "cell_type": "code",
   "execution_count": 4,
   "metadata": {},
   "outputs": [],
   "source": [
    "import socket\n",
    "import fcntl\n",
    "import struct\n",
    "def get_interface_ip(ifname):\n",
    "   s = socket.socket(socket.AF_INET, socket.SOCK_DGRAM)\n",
    "   return socket.inet_ntoa(fcntl.ioctl(\n",
    "           s.fileno(),\n",
    "           0x8915,\n",
    "           struct.pack('256s', bytes(ifname[:15], 'utf-8'))\n",
    "       )[20:24])"
   ]
  },
  {
   "cell_type": "code",
   "execution_count": 4,
   "metadata": {},
   "outputs": [
    {
     "name": "stderr",
     "output_type": "stream",
     "text": [
      "/g/data3/hh5/public/apps/miniconda3/envs/analysis3-19.07/lib/python3.6/site-packages/distributed/dashboard/core.py:72: UserWarning: \n",
      "Port 8787 is already in use. \n",
      "Perhaps you already have a cluster running?\n",
      "Hosting the diagnostics dashboard on a random port instead.\n",
      "  warnings.warn(\"\\n\" + msg)\n"
     ]
    },
    {
     "data": {
      "text/html": [
       "<table style=\"border: 2px solid white;\">\n",
       "<tr>\n",
       "<td style=\"vertical-align: top; border: 0px solid white\">\n",
       "<h3 style=\"text-align: left;\">Client</h3>\n",
       "<ul style=\"text-align: left; list-style: none; margin: 0; padding: 0;\">\n",
       "  <li><b>Scheduler: </b>tcp://127.0.0.1:44243</li>\n",
       "  <li><b>Dashboard: </b><a href='http://127.0.0.1:36757/status' target='_blank'>http://127.0.0.1:36757/status</a>\n",
       "</ul>\n",
       "</td>\n",
       "<td style=\"vertical-align: top; border: 0px solid white\">\n",
       "<h3 style=\"text-align: left;\">Cluster</h3>\n",
       "<ul style=\"text-align: left; list-style:none; margin: 0; padding: 0;\">\n",
       "  <li><b>Workers: </b>8</li>\n",
       "  <li><b>Cores: </b>32</li>\n",
       "  <li><b>Memory: </b>2.15 GB</li>\n",
       "</ul>\n",
       "</td>\n",
       "</tr>\n",
       "</table>"
      ],
      "text/plain": [
       "<Client: 'tcp://127.0.0.1:44243' processes=8 threads=32, memory=2.15 GB>"
      ]
     },
     "execution_count": 4,
     "metadata": {},
     "output_type": "execute_result"
    }
   ],
   "source": [
    "#cluster = Client()\n",
    "#cluster"
   ]
  },
  {
   "cell_type": "code",
   "execution_count": 5,
   "metadata": {},
   "outputs": [
    {
     "data": {
      "application/vnd.jupyter.widget-view+json": {
       "model_id": "9fa522b92835416988cc46f5a0679a4e",
       "version_major": 2,
       "version_minor": 0
      },
      "text/plain": [
       "VBox(children=(HTML(value='<h2>PBSCluster</h2>'), HBox(children=(HTML(value='\\n<div>\\n  <style scoped>\\n    .d…"
      ]
     },
     "metadata": {},
     "output_type": "display_data"
    }
   ],
   "source": [
    "cluster = PBSCluster(cores=8, memory='20 GB', ip='',interface='ib0',localdirectory='/g/data/e14/ss2778/tmp')\n",
    "cluster"
   ]
  },
  {
   "cell_type": "code",
   "execution_count": 6,
   "metadata": {},
   "outputs": [
    {
     "data": {
      "text/html": [
       "<table style=\"border: 2px solid white;\">\n",
       "<tr>\n",
       "<td style=\"vertical-align: top; border: 0px solid white\">\n",
       "<h3 style=\"text-align: left;\">Client</h3>\n",
       "<ul style=\"text-align: left; list-style: none; margin: 0; padding: 0;\">\n",
       "  <li><b>Scheduler: </b>tcp://192.43.239.22:43242</li>\n",
       "  <li><b>Dashboard: </b><a href='http://192.43.239.22:8787/status' target='_blank'>http://192.43.239.22:8787/status</a>\n",
       "</ul>\n",
       "</td>\n",
       "<td style=\"vertical-align: top; border: 0px solid white\">\n",
       "<h3 style=\"text-align: left;\">Cluster</h3>\n",
       "<ul style=\"text-align: left; list-style:none; margin: 0; padding: 0;\">\n",
       "  <li><b>Workers: </b>0</li>\n",
       "  <li><b>Cores: </b>0</li>\n",
       "  <li><b>Memory: </b>0 B</li>\n",
       "</ul>\n",
       "</td>\n",
       "</tr>\n",
       "</table>"
      ],
      "text/plain": [
       "<Client: 'tcp://192.43.239.22:43242' processes=0 threads=0, memory=0 B>"
      ]
     },
     "execution_count": 6,
     "metadata": {},
     "output_type": "execute_result"
    }
   ],
   "source": [
    "client = Client(cluster)\n",
    "client"
   ]
  },
  {
   "cell_type": "code",
   "execution_count": 7,
   "metadata": {},
   "outputs": [],
   "source": [
    "cluster.job_header = '#!/usr/bin/env bash\\n#PBS -N dask-worker\\n#PBS -q expressbw\\n#PBS -l ncpus=8\\n#PBS -l mem=20GB\\n#PBS -l walltime=00:30:00\\nJOB_ID=${PBS_JOBID%.*}'"
   ]
  },
  {
   "cell_type": "code",
   "execution_count": 8,
   "metadata": {},
   "outputs": [],
   "source": [
    "cluster.scale(10)"
   ]
  },
  {
   "cell_type": "code",
   "execution_count": 9,
   "metadata": {},
   "outputs": [
    {
     "name": "stdout",
     "output_type": "stream",
     "text": [
      "#!/usr/bin/env bash\n",
      "\n",
      "#!/usr/bin/env bash\n",
      "#PBS -N dask-worker\n",
      "#PBS -q expressbw\n",
      "#PBS -l ncpus=8\n",
      "#PBS -l mem=20GB\n",
      "#PBS -l walltime=00:30:00\n",
      "JOB_ID=${PBS_JOBID%.*}\n",
      "\n",
      "\n",
      "\n",
      "/g/data3/hh5/public/apps/miniconda3/envs/analysis3-19.07/bin/python -m distributed.cli.dask_worker tcp://192.43.239.22:43242 --nthreads 8 --memory-limit 20.00GB --name dask-worker--${JOB_ID}-- --death-timeout 60 --interface ib0\n",
      "\n"
     ]
    }
   ],
   "source": [
    "print(cluster.job_script())"
   ]
  },
  {
   "cell_type": "code",
   "execution_count": 10,
   "metadata": {},
   "outputs": [],
   "source": [
    "#Creating my own database:\n",
    "db = '/g/data/e14/ss2778/cc_test1.db'\n",
    "session = cc.database.create_session(db)"
   ]
  },
  {
   "cell_type": "code",
   "execution_count": 11,
   "metadata": {},
   "outputs": [
    {
     "name": "stderr",
     "output_type": "stream",
     "text": [
      "/g/data3/hh5/public/apps/miniconda3/envs/analysis3-19.07/lib/python3.6/site-packages/ipykernel_launcher.py:2: DeprecationWarning: The 'cachedir' parameter has been deprecated in version 0.12 and will be removed in version 0.14.\n",
      "You provided \"cachedir='/g/data/e14/ss2778/tmp/'\", use \"location='/g/data/e14/ss2778/tmp/'\" instead.\n",
      "  \n"
     ]
    }
   ],
   "source": [
    "from joblib import Memory\n",
    "memory = Memory(cachedir='/g/data/e14/ss2778/tmp/',verbose=0)"
   ]
  },
  {
   "cell_type": "code",
   "execution_count": 12,
   "metadata": {},
   "outputs": [
    {
     "name": "stdout",
     "output_type": "stream",
     "text": [
      "Indexing experiment: 01deg_jra55v13_ryf9091\n"
     ]
    },
    {
     "name": "stderr",
     "output_type": "stream",
     "text": [
      "0it [00:00, ?it/s]\n"
     ]
    },
    {
     "data": {
      "text/plain": [
       "0"
      ]
     },
     "execution_count": 12,
     "metadata": {},
     "output_type": "execute_result"
    }
   ],
   "source": [
    "dir_list=['/g/data/hh5/tmp/cosima/access-om2-01/01deg_jra55v13_ryf9091']\n",
    "cc.database.build_index(dir_list,session,update=True)"
   ]
  },
  {
   "cell_type": "code",
   "execution_count": null,
   "metadata": {},
   "outputs": [
    {
     "name": "stdout",
     "output_type": "stream",
     "text": [
      "CPU times: user 0 ns, sys: 5 µs, total: 5 µs\n",
      "Wall time: 9.78 µs\n"
     ]
    }
   ],
   "source": [
    "%time\n",
    "expt =  '01deg_jra55v13_ryf9091'\n",
    "var1 = 'uocn_m'\n",
    "var2 = 'vocn_m'\n",
    "uocn_m = cc.querying.getvar(expt, var1, session,start_time='1900-01-01',\n",
    "                            end_time='1920-12-31' )\n",
    "vocn_m = cc.querying.getvar(expt, var1, session,start_time='1900-01-01',\n",
    "                            end_time='1920-12-31')"
   ]
  },
  {
   "cell_type": "code",
   "execution_count": 7,
   "metadata": {},
   "outputs": [],
   "source": [
    "@memory.cache\n",
    "def calc_eke_dask(expt):\n",
    "\n",
    "    u = da.from_array(uocn_m,chunks=(60,675,900)) \n",
    "    #u = da.concatenate(u_dataarrays, axis=0)\n",
    "\n",
    "    v = da.from_array(vocn_m,chunks=(60,675,900)) \n",
    "    #v = da.concatenate(v_dataarrays, axis=0)\n",
    "\n",
    "    u_mean = u.mean(axis=0)\n",
    "    v_mean = v.mean(axis=0)\n",
    "\n",
    "    u_ = u - u_mean\n",
    "    v_ = v - v_mean\n",
    "\n",
    "    EKE = 0.5 * (u_**2 + v_**2)\n",
    "    EKE_mean = EKE.mean(axis=0)\n",
    "    \n",
    "  #  EKE = cc.compute_by_block(EKE)\n",
    "    \n",
    "    EKE=EKE.compute()\n",
    "    return EKE"
   ]
  },
  {
   "cell_type": "code",
   "execution_count": null,
   "metadata": {},
   "outputs": [],
   "source": [
    "%%time\n",
    "EKE = calc_eke_dask('01deg_jra55v13_ryf9091')"
   ]
  },
  {
   "cell_type": "markdown",
   "metadata": {},
   "source": [
    "# Other_Method to load u,v:"
   ]
  },
  {
   "cell_type": "code",
   "execution_count": null,
   "metadata": {},
   "outputs": [],
   "source": [
    "#SH = (xr.open_mfdataset('/g/data1/ua8/JRA55-do/RYF/v1-3/RYF.q_10.1990_1991.nc'))\n",
    "O1 = (xr.open_mfdataset('/g/data/hh5/tmp/cosima/access-om2-01/01deg_jra55v13_ryf9091/output*/ice/OUTPUT/iceh.*.nc'))"
   ]
  },
  {
   "cell_type": "code",
   "execution_count": 6,
   "metadata": {},
   "outputs": [],
   "source": [
    "u=O1['uocn_m']\n",
    "v=O1['vocn_m']"
   ]
  },
  {
   "cell_type": "code",
   "execution_count": 7,
   "metadata": {},
   "outputs": [],
   "source": [
    "u_mean = u.mean('time')\n",
    "v_mean = v.mean('time')"
   ]
  },
  {
   "cell_type": "code",
   "execution_count": 8,
   "metadata": {},
   "outputs": [],
   "source": [
    "u_ = u1 - u_mean\n",
    "v_ = v1 - v_mean"
   ]
  },
  {
   "cell_type": "code",
   "execution_count": null,
   "metadata": {},
   "outputs": [],
   "source": [
    "EKE = 0.5 * (u_**2 + v_**2)"
   ]
  },
  {
   "cell_type": "code",
   "execution_count": null,
   "metadata": {},
   "outputs": [],
   "source": [
    "#EKE_mean_10yeardata\n",
    "eke10=EKE.isel(time=slice(0,120))\n",
    "eke10m=eke10.mean('time')\n",
    "eke10m.plot()\n",
    "savefigure('mean_eke_10years')"
   ]
  },
  {
   "cell_type": "code",
   "execution_count": null,
   "metadata": {},
   "outputs": [],
   "source": [
    "#Hotspot of EKEmean_10years_data_timeseries\n",
    "h1=eke10.sel(xu_ocean=slice(,)).sel(yu_ocean=slice(,)) #hotspot \n",
    "h2= eke10.sel(xu_ocean=slice(,)).sel(yu_ocean=slice(,)) #hotspot\n",
    "h3= eke10.sel(xu_ocean=slice(,)).sel(yu_ocean=slice(,)) #hotspot"
   ]
  },
  {
   "cell_type": "code",
   "execution_count": 28,
   "metadata": {},
   "outputs": [],
   "source": [
    "#Seasonal Anomalies of EKE:\n",
    "EKE_season_mean = EKE.groupby('time.season').mean('time')\n",
    "EKE_season = EKE.groupby('time.season')\n",
    "EKE_season_anom = EKE_season - EKE_season_mean\n",
    "#area averaged eke anomalies:\n",
    "de=EKE_season_anom.mean('xt_ocean').mean('yt_ocean')"
   ]
  },
  {
   "cell_type": "code",
   "execution_count": null,
   "metadata": {},
   "outputs": [],
   "source": [
    "#Extracting season from time series:\n",
    "%%time\n",
    "for season, values in data.groupby('season'):\n",
    "    ds=values\n",
    "    print(season)\n",
    "    print(values)"
   ]
  },
  {
   "cell_type": "code",
   "execution_count": null,
   "metadata": {},
   "outputs": [],
   "source": [
    "#Plotting different season time series for 30 years:"
   ]
  },
  {
   "cell_type": "code",
   "execution_count": null,
   "metadata": {},
   "outputs": [],
   "source": [
    "plt.figure(figsize=(15,8))\n",
    "EKE_mean=EKE.mean('time')\n",
    "X,Y=np.meshgrid(EKE.xu_ocean,EKE.yu_ocean)\n",
    "h=plt.contourf(X,Y,EKE_mean,levels=100)\n",
    "cb = plt.colorbar(h,orientation='vertical')\n",
    "plt.contour(X,Y,EKE,levels=14, linewidths=0.5, colors='k')\n",
    "plt.title('EKE (m2/s2)')\n",
    "plt.ylabel('latitude(degrees)')\n",
    "plt.xlabel('longitude(degrees)')\n",
    "savefigure('EKE_mean')"
   ]
  },
  {
   "cell_type": "code",
   "execution_count": null,
   "metadata": {},
   "outputs": [],
   "source": [
    "#EKE trend over 1958-2018\n",
    "eke_time = EKE.time.values.astype('datetime64[M]').astype('float64')\n",
    "etime = (eke_time-eke_time.mean())/eke_time.std()\n",
    "eke=EKE-EKE.mean('time')\n",
    "tl=len(EKE.time)\n",
    "trend_eke= np.dot(etime,np.transpose(EKE.values,(1,0,2)))/tl"
   ]
  },
  {
   "cell_type": "code",
   "execution_count": null,
   "metadata": {},
   "outputs": [],
   "source": [
    "plt.figure(figsize=(15,8))\n",
    "X,Y=np.meshgrid(EKE.xu_ocean,EKE.yu_ocean)\n",
    "h=plt.contourf(X,Y,trend_eke,levels=100)\n",
    "cb = plt.colorbar(h,orientation='vertical')\n",
    "plt.contour(X,Y,EKE,levels=14, linewidths=0.5, colors='k')\n",
    "plt.title('EKE (m2/s2)')\n",
    "plt.ylabel('latitude(degrees)')\n",
    "plt.xlabel('longitude(degrees)')\n",
    "savefigure('Trend_EKE_50years')"
   ]
  }
 ],
 "metadata": {
  "kernelspec": {
   "display_name": "Python [conda env:analysis3-19.07]",
   "language": "python",
   "name": "conda-env-analysis3-19.07-py"
  },
  "language_info": {
   "codemirror_mode": {
    "name": "ipython",
    "version": 3
   },
   "file_extension": ".py",
   "mimetype": "text/x-python",
   "name": "python",
   "nbconvert_exporter": "python",
   "pygments_lexer": "ipython3",
   "version": "3.6.7"
  }
 },
 "nbformat": 4,
 "nbformat_minor": 2
}
