{
 "cells": [
  {
   "cell_type": "code",
   "execution_count": null,
   "metadata": {},
   "outputs": [],
   "source": [
    "%pylab inline\n",
    "\n",
    "import cosima_cookbook as cc\n",
    "#session = cc.database.create_session()\n",
    "import matplotlib.pyplot as plt # to generate plots\n",
    "from mpl_toolkits.basemap import Basemap # plot on map projections\n",
    "from glob import glob\n",
    "import xarray as xr\n",
    "import scipy as sp\n",
    "import pandas as pd\n",
    "import scipy.interpolate\n",
    "import scipy.ndimage\n",
    "from tqdm import tqdm_notebook\n",
    "import IPython.display\n",
    "import cmocean as cm\n",
    "import cartopy.crs as ccrs\n",
    "import cartopy.feature as cft\n",
    "from dask.distributed import Client, progress\n",
    "\n",
    "import sys, os\n",
    "sys.path.append(os.path.join(os.getcwd(), '..'))  # so we can import ../exptdata\n",
    "import exptdata\n",
    "print('Available exptdata keys: ', [k for k in exptdata.exptdict.keys()])"
   ]
  },
  {
   "cell_type": "code",
   "execution_count": null,
   "metadata": {},
   "outputs": [],
   "source": [
    "cc.start_cluster()\n",
    "#client = Client('tcp://10.0.64.4:8786',local_dir='/g/data/e14/ss2778/tmp')\n",
    "#client"
   ]
  },
  {
   "cell_type": "code",
   "execution_count": null,
   "metadata": {},
   "outputs": [],
   "source": [
    "aviso_clim_tstart = pd.to_datetime('1958', format='%Y')\n",
    "aviso_clim_tend = aviso_clim_tstart + pd.DateOffset(years=60)\n",
    "firstyear = pd.to_datetime(aviso_clim_tstart).year  # assumes tstart is 1 January!\n",
    "lastyear = pd.to_datetime(aviso_clim_tend).year-1  # assumes tend is 1 January!\n",
    "yearrange = str(firstyear)+'-'+str(lastyear)\n",
    "print(yearrange)\n",
    "print('aviso_clim_tstart = ', aviso_clim_tstart)\n",
    "print('aviso_clim_tend = ', aviso_clim_tend)"
   ]
  },
  {
   "cell_type": "code",
   "execution_count": null,
   "metadata": {},
   "outputs": [],
   "source": [
    "figdir = ''\n",
    "def savefigure(fname):\n",
    "    plt.savefig(os.path.join(figdir, fname+'.png'),dpi=300, bbox_inches=\"tight\")  # comment out to disable saving\n",
    "    #plt.savefig(os.path.join(figdir, fname+'.pdf'),dpi=300, bbox_inches=\"tight\")  # comment out to disable saving\n",
    "    return"
   ]
  },
  {
   "cell_type": "code",
   "execution_count": null,
   "metadata": {},
   "outputs": [],
   "source": [
    "ekey='025deg'\n",
    "expt = exptdata.exptdict[ekey]['expt']\n",
    "n_files = exptdata.exptdict[ekey]['n_files']\n",
    "time_units = exptdata.exptdict[ekey]['time_units']\n",
    "offset = exptdata.exptdict[ekey]['offset']\n",
    "    \n",
    "sl = cc.get_nc_variable(expt,'ocean_month.nc','sea_level',\n",
    "                                 n=n_files,time_units=time_units, offset=offset,use_cache=True)\\\n",
    "                                 .sel(time=slice(aviso_clim_tstart,aviso_clim_tend)).load()\n",
    "sl_sq = cc.get_nc_variable(expt,'ocean_month.nc','sea_levelsq',\n",
    "                             n=n_files,time_units=time_units, offset=offset,use_cache=True)\\\n",
    "                             .sel(time=slice(aviso_clim_tstart,aviso_clim_tend)).load()\n",
    "    \n",
    "SSTm = cc.get_nc_variable(expt,'ocean_month.nc','surface_temp',\n",
    "                                 n=n_files,time_units=time_units, offset=offset,use_cache=True)\\\n",
    "                                 .sel(time=slice(aviso_clim_tstart,aviso_clim_tend))- 273.15\n",
    "SSTm.load();\n",
    "#sea_level = cc.querying.getvar(expt=expt,variable='sea_level',session=session,ncfile='ocean_month.nc',time_units=time_units,n=n_files,offset=offset)"
   ]
  },
  {
   "cell_type": "code",
   "execution_count": null,
   "metadata": {
    "scrolled": true
   },
   "outputs": [],
   "source": [
    "x=sl.rolling(time=6,center=True).mean();\n",
    "y=sl_sq.rolling(time=6,center=True).mean();\n",
    "var_six= (y - x**(2.0));\n",
    "var_six.load();"
   ]
  },
  {
   "cell_type": "code",
   "execution_count": null,
   "metadata": {},
   "outputs": [],
   "source": [
    "var_sl=var_six[3:298,:,:] #Removing Nan from the data\n",
    "#De-sesonalized the variable:\n",
    "Clim_sl=var_sl.groupby('time.month').mean('time')\n",
    "out_sl=var_sl.groupby('time.month')\n",
    "var_des=(out_sl-Clim_sl)"
   ]
  },
  {
   "cell_type": "markdown",
   "metadata": {},
   "source": [
    "# Nino 3.4 time series"
   ]
  },
  {
   "cell_type": "code",
   "execution_count": null,
   "metadata": {},
   "outputs": [],
   "source": [
    "# Load Nino 3.4 time series:\n",
    "nino= SSTm.sel(xt_ocean=slice(-170,-120)).sel(yt_ocean=slice(-5,5))\n",
    "SST_avg=nino.mean('xt_ocean').mean('yt_ocean')\n",
    "Clim=SST_avg.groupby('time.month').mean('time')\n",
    "out=SST_avg.groupby('time.month')\n",
    "SSTa=(out-Clim)\n",
    "#series=SSTa.to_pandas()\n",
    "Nino_nor= (SSTa-np.mean(SSTa))/np.std(SSTa)"
   ]
  },
  {
   "cell_type": "code",
   "execution_count": null,
   "metadata": {},
   "outputs": [],
   "source": [
    "sstn=Nino_nor[3:298] #Making time dimension same as Variance of sea_level\n",
    "tl=len(var_des.time)\n",
    "#Calculate Nino 3.4 regressed variance of Sea_level:\n",
    "reg_sl=np.dot(sstn,np.transpose(var_des.values,(1,0,2)))/tl"
   ]
  },
  {
   "cell_type": "code",
   "execution_count": null,
   "metadata": {},
   "outputs": [],
   "source": [
    "#Regression plot\n",
    "plt.figure(figsize=(15,8))\n",
    "X,Y=np.meshgrid(var_des.xt_ocean,var_des.yt_ocean)\n",
    "h=plt.pcolormesh(X,Y,reg_sl*1000.,cmap='RdBu_r',vmax= 0.5,vmin=-0.5)\n",
    "cb = plt.colorbar(h,orientation='vertical',label='cm2/std')\n",
    "#plt.contour(X,Y,reg,levels=5, linewidths=0.5, colors='k')\n",
    "plt.title('JRA55-do Nino 3.4 regressed variance of sea_level')\n",
    "plt.ylabel('latitude(degrees)')\n",
    "plt.xlabel('longitude(degrees)')\n",
    "savefigure('Regressed variance of sea_level_rm-6c_25y_1deg')"
   ]
  },
  {
   "cell_type": "code",
   "execution_count": null,
   "metadata": {},
   "outputs": [],
   "source": [
    "n=len(var_des.yt_ocean)\n",
    "m=len(var_des.xt_ocean)\n",
    "error = np.empty((t, 300, 360))\n",
    "SE =np.empty((300,360))\n",
    "rms=np.empty((300,360))\n",
    "for i in range(1,t): # loop over time dimension\n",
    "    error[i,:,:] = var_des[i,:,:] - np.dot(reg_sl[i,:,:],sstn[i]) # regression here (other way)\n",
    "    if i%100 == 0: # modulo function\n",
    "        print(i) # print every 10th iteration\n",
    "de= xr.Dataset({ 'error': (('time', 'latitude', 'longitude'), error)})\n",
    "for i in range(1,n):\n",
    "    for j in range(1,m): #loop over lat and lon\n",
    "        SE[i,j] = ((np.var(error[:,i,j],axis=0))/sqrt(t-1))\n",
    "        rms[i,j]=np.sqrt(SE[i,j])\n",
    "    if i%100 == 0:# modulo function\n",
    "        if j%100 == 0:# modulo function\n",
    "            print(i,j) \n",
    "dse= xr.Dataset({'SE': (('latitude', 'longitude'), SE),'rms': (('latitude','longitude'),rms)})"
   ]
  }
 ],
 "metadata": {
  "kernelspec": {
   "display_name": "Python [conda env:analysis3-19.01]",
   "language": "python",
   "name": "conda-env-analysis3-19.01-py"
  },
  "language_info": {
   "codemirror_mode": {
    "name": "ipython",
    "version": 3
   },
   "file_extension": ".py",
   "mimetype": "text/x-python",
   "name": "python",
   "nbconvert_exporter": "python",
   "pygments_lexer": "ipython3",
   "version": "3.6.7"
  }
 },
 "nbformat": 4,
 "nbformat_minor": 2
}
