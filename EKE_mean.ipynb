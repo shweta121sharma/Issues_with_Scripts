{
 "cells": [
  {
   "cell_type": "code",
   "execution_count": 1,
   "metadata": {},
   "outputs": [
    {
     "name": "stdout",
     "output_type": "stream",
     "text": [
      "Populating the interactive namespace from numpy and matplotlib\n"
     ]
    }
   ],
   "source": [
    "%pylab inline\n",
    "import cosima_cookbook as cc\n",
    "import numpy as np\n",
    "import matplotlib.pyplot as plt # to generate plots\n",
    "import xarray as xr\n",
    "import scipy as sp\n",
    "import pandas as pd\n",
    "import IPython.display\n",
    "import cmocean as cm\n",
    "import cartopy.crs as ccrs\n",
    "import cartopy.feature as cft\n",
    "import matplotlib.gridspec as gridspec\n",
    "from mpl_toolkits.basemap import Basemap # plot on map projections\n",
    "from glob import glob\n",
    "import scipy.interpolate\n",
    "import scipy.ndimage\n",
    "from tqdm import tqdm_notebook\n",
    "import pylab\n",
    "\n",
    "# for georefferenced data\n",
    "import matplotlib.pyplot as plt\n",
    "from mpl_toolkits.basemap import Basemap\n",
    "import matplotlib.cm as cm # for colormap\n",
    "import netCDF4 as nc\n",
    "import dask.array as da\n",
    "import dataset"
   ]
  },
  {
   "cell_type": "code",
   "execution_count": 2,
   "metadata": {},
   "outputs": [],
   "source": [
    "#Creating my own database:\n",
    "db = '/g/data/e14/ss2778/cc_test1.db'\n",
    "session = cc.database.create_session(db)"
   ]
  },
  {
   "cell_type": "code",
   "execution_count": 3,
   "metadata": {},
   "outputs": [
    {
     "name": "stderr",
     "output_type": "stream",
     "text": [
      "/g/data3/hh5/public/apps/miniconda3/envs/analysis3-19.07/lib/python3.6/site-packages/ipykernel_launcher.py:2: DeprecationWarning: The 'cachedir' parameter has been deprecated in version 0.12 and will be removed in version 0.14.\n",
      "You provided \"cachedir='/g/data/e14/ss2778/tmp/'\", use \"location='/g/data/e14/ss2778/tmp/'\" instead.\n",
      "  \n"
     ]
    }
   ],
   "source": [
    "from joblib import Memory\n",
    "memory = Memory(cachedir='/g/data/e14/ss2778/tmp/',verbose=0)"
   ]
  },
  {
   "cell_type": "code",
   "execution_count": 4,
   "metadata": {},
   "outputs": [
    {
     "name": "stdout",
     "output_type": "stream",
     "text": [
      "Indexing experiment: 01deg_jra55v13_ryf9091\n"
     ]
    },
    {
     "name": "stderr",
     "output_type": "stream",
     "text": [
      "0it [00:00, ?it/s]\n"
     ]
    },
    {
     "data": {
      "text/plain": [
       "0"
      ]
     },
     "execution_count": 4,
     "metadata": {},
     "output_type": "execute_result"
    }
   ],
   "source": [
    "dir_list=['/g/data/hh5/tmp/cosima/access-om2-01/01deg_jra55v13_ryf9091']\n",
    "cc.database.build_index(dir_list,session,update=True)"
   ]
  },
  {
   "cell_type": "code",
   "execution_count": null,
   "metadata": {},
   "outputs": [
    {
     "name": "stdout",
     "output_type": "stream",
     "text": [
      "CPU times: user 0 ns, sys: 6 µs, total: 6 µs\n",
      "Wall time: 8.82 µs\n"
     ]
    },
    {
     "name": "stderr",
     "output_type": "stream",
     "text": [
      "/g/data3/hh5/public/apps/miniconda3/envs/analysis3-19.07/lib/python3.6/site-packages/cosima_cookbook/querying.py:96: FutureWarning: In xarray version 0.14 the default behaviour of `open_mfdataset`\n",
      "will change. To retain the existing behavior, pass\n",
      "combine='nested'. To use future default behavior, pass\n",
      "combine='by_coords'. See\n",
      "http://xarray.pydata.org/en/stable/combining.html#combining-multi\n",
      "\n",
      "  preprocess=lambda d: d[variable].to_dataset() if variable not in d.coords else d)\n",
      "/g/data3/hh5/public/apps/miniconda3/envs/analysis3-19.07/lib/python3.6/site-packages/xarray/backends/api.py:934: FutureWarning: The datasets supplied have global dimension coordinates. You may want\n",
      "to use the new `combine_by_coords` function (or the\n",
      "`combine='by_coords'` option to `open_mfdataset`) to order the datasets\n",
      "before concatenation. Alternatively, to continue concatenating based\n",
      "on the order the datasets are supplied in future, please use the new\n",
      "`combine_nested` function (or the `combine='nested'` option to\n",
      "open_mfdataset).\n",
      "  from_openmfds=True,\n"
     ]
    }
   ],
   "source": [
    "%time\n",
    "expt =  '01deg_jra55v13_ryf9091'\n",
    "var1 = 'uocn_m'\n",
    "var2 = 'vocn_m'\n",
    "uocn_m = cc.querying.getvar(expt, var1, session,start_time='1900-01-01',\n",
    "                            end_time='1920-12-31' )\n",
    "vocn_m = cc.querying.getvar(expt, var1, session,start_time='1900-01-01',\n",
    "                            end_time='1920-12-31')"
   ]
  },
  {
   "cell_type": "code",
   "execution_count": null,
   "metadata": {},
   "outputs": [],
   "source": [
    "@memory.cache\n",
    "def calc_eke_dask(expt):\n",
    "\n",
    "    u = da.from_array(uocn_m,chunks=(60,675,900)) \n",
    "    #u = da.concatenate(u_dataarrays, axis=0)\n",
    "\n",
    "    v = da.from_array(vocn_m,chunks=(60,675,900)) \n",
    "    #v = da.concatenate(v_dataarrays, axis=0)\n",
    "\n",
    "    u_mean = u.mean(axis=0)\n",
    "    v_mean = v.mean(axis=0)\n",
    "\n",
    "    u_ = u - u_mean\n",
    "    v_ = v - v_mean\n",
    "\n",
    "    EKE = 0.5 * (u_**2 + v_**2)\n",
    "    EKE_mean = EKE.mean(axis=0)\n",
    "    \n",
    "  #  EKE = cc.compute_by_block(EKE)\n",
    "    \n",
    "    EKE=EKE.compute()\n",
    "    return EKE"
   ]
  },
  {
   "cell_type": "code",
   "execution_count": null,
   "metadata": {},
   "outputs": [],
   "source": [
    "%%time\n",
    "EKE = calc_eke_dask('01deg_jra55v13_ryf9091')"
   ]
  },
  {
   "cell_type": "code",
   "execution_count": null,
   "metadata": {},
   "outputs": [],
   "source": [
    "#Saving EKE field in .nc file:\n",
    "new_1 = './EKE.nc'\n",
    "print ('saving to ', new_1)\n",
    "EKE.to_netcdf(path=new_1)\n",
    "print ('finished saving')"
   ]
  },
  {
   "cell_type": "code",
   "execution_count": null,
   "metadata": {},
   "outputs": [],
   "source": [
    "plt.figure(figsize=(15,8))\n",
    "EKE_mean=EKE.mean('time')\n",
    "X,Y=np.meshgrid(EKE.xu_ocean,EKE.yu_ocean)\n",
    "h=plt.contourf(X,Y,EKE_mean,levels=100)\n",
    "cb = plt.colorbar(h,orientation='vertical')\n",
    "plt.contour(X,Y,EKE,levels=14, linewidths=0.5, colors='k')\n",
    "plt.title('EKE (m2/s2)')\n",
    "plt.ylabel('latitude(degrees)')\n",
    "plt.xlabel('longitude(degrees)')\n",
    "savefigure('EKE_mean')"
   ]
  }
 ],
 "metadata": {
  "kernelspec": {
   "display_name": "Python [conda env:analysis3-19.07]",
   "language": "python",
   "name": "conda-env-analysis3-19.07-py"
  },
  "language_info": {
   "codemirror_mode": {
    "name": "ipython",
    "version": 3
   },
   "file_extension": ".py",
   "mimetype": "text/x-python",
   "name": "python",
   "nbconvert_exporter": "python",
   "pygments_lexer": "ipython3",
   "version": "3.6.7"
  }
 },
 "nbformat": 4,
 "nbformat_minor": 2
}
